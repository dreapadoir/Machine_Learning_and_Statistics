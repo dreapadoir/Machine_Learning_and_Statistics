{
 "cells": [
  {
   "cell_type": "markdown",
   "id": "570f2a23",
   "metadata": {},
   "source": [
    "# Iris dataset - Machine Learning and Statistics   Winter 23/24"
   ]
  },
  {
   "cell_type": "markdown",
   "id": "a5e28a2f",
   "metadata": {},
   "source": [
    "## Author: David Higgins - G00411302     Atlantic Technological University"
   ]
  },
  {
   "cell_type": "code",
   "execution_count": 1,
   "id": "97b5d0b2",
   "metadata": {},
   "outputs": [
    {
     "name": "stdout",
     "output_type": "stream",
     "text": [
      "\n",
      "Structure of the dataframe:\n",
      "\n",
      "    sepal length (cm)  sepal width (cm)  petal length (cm)  petal width (cm)  \\\n",
      "0                5.1               3.5                1.4               0.2   \n",
      "1                4.9               3.0                1.4               0.2   \n",
      "2                4.7               3.2                1.3               0.2   \n",
      "3                4.6               3.1                1.5               0.2   \n",
      "4                5.0               3.6                1.4               0.2   \n",
      "\n",
      "   target  \n",
      "0       0  \n",
      "1       0  \n",
      "2       0  \n",
      "3       0  \n",
      "4       0  \n",
      "\n",
      "There are 150 samples in the dataset\n",
      "\n",
      "Summary statistics for dataset:\n",
      "\n",
      "        sepal length (cm)  sepal width (cm)  petal length (cm)  \\\n",
      "count         150.000000        150.000000         150.000000   \n",
      "mean            5.843333          3.057333           3.758000   \n",
      "std             0.828066          0.435866           1.765298   \n",
      "min             4.300000          2.000000           1.000000   \n",
      "25%             5.100000          2.800000           1.600000   \n",
      "50%             5.800000          3.000000           4.350000   \n",
      "75%             6.400000          3.300000           5.100000   \n",
      "max             7.900000          4.400000           6.900000   \n",
      "\n",
      "       petal width (cm)      target  \n",
      "count        150.000000  150.000000  \n",
      "mean           1.199333    1.000000  \n",
      "std            0.762238    0.819232  \n",
      "min            0.100000    0.000000  \n",
      "25%            0.300000    0.000000  \n",
      "50%            1.300000    1.000000  \n",
      "75%            1.800000    2.000000  \n",
      "max            2.500000    2.000000  \n"
     ]
    }
   ],
   "source": [
    "#program to analyse the iris dataset\n",
    "#Author: David Higgins\n",
    "\n",
    "from sklearn.datasets import load_iris          #loads the modules necessary for this code\n",
    "from matplotlib import pyplot as plt\n",
    "import pandas as pd\n",
    "\n",
    "data = load_iris(return_X_y = False, as_frame = True)                 #loads the iris dataset as a dataframe\n",
    "\n",
    "irisData = data.frame                           #creates a variable containing the dataframe\n",
    "\n",
    "print(\"Target codes:\\n0 =\", data.target_names[0], \"\\n1 =\", data.target_names[1], \"\\n2 =\", data.target_names[2], file=open(\"summary.txt\", \"w\")) #prints out the variety names equivalent to the target codes \n",
    "\n",
    "print(\"\\nStructure of the dataframe:\")\n",
    "print(\"\\n\",irisData.head())                          #shows the first 5 lines of the dataframe to illustrate the structure\n",
    "\n",
    "print(\"\\nThere are {} samples in the dataset\".format(irisData['target'].count()))     #counts the samples in the dataset by counting each entry in the target column\n",
    "\n",
    "print(\"\\nSummary statistics for dataset:\")\n",
    "print(\"\\n\",irisData.describe())                      #describes the dataset as a whole. It gives summary statistics for each attribute without considering the separate varieties."
   ]
  },
  {
   "cell_type": "code",
   "execution_count": null,
   "id": "76e5a6cd",
   "metadata": {},
   "outputs": [],
   "source": []
  }
 ],
 "metadata": {
  "kernelspec": {
   "display_name": "Python 3 (ipykernel)",
   "language": "python",
   "name": "python3"
  },
  "language_info": {
   "codemirror_mode": {
    "name": "ipython",
    "version": 3
   },
   "file_extension": ".py",
   "mimetype": "text/x-python",
   "name": "python",
   "nbconvert_exporter": "python",
   "pygments_lexer": "ipython3",
   "version": "3.10.9"
  }
 },
 "nbformat": 4,
 "nbformat_minor": 5
}
