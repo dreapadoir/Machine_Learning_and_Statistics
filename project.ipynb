{
 "cells": [
  {
   "cell_type": "markdown",
   "id": "570f2a23",
   "metadata": {},
   "source": [
    "# Iris dataset - Machine Learning and Statistics   Winter 23/24"
   ]
  },
  {
   "cell_type": "markdown",
   "id": "a5e28a2f",
   "metadata": {},
   "source": [
    "## Author: David Higgins - G00411302     Atlantic Technological University"
   ]
  },
  {
   "cell_type": "markdown",
   "id": "8f29644c",
   "metadata": {},
   "source": [
    "## Introduction"
   ]
  },
  {
   "cell_type": "markdown",
   "id": "87f878ff",
   "metadata": {},
   "source": [
    "The Fisher Iris dataset, introduced by Sir Ronald A. Fisher in 1936, stands as a seminal contribution to the fields of data science and machine learning. This dataset, featuring 150 iris flower samples, holds a unique place in the annals of statistical and botanical research. Its primary purpose is to explore the feasibility of utilizing quantitative measurements—namely, sepal and petal dimensions—to accurately classify iris flowers into three distinct species: Iris setosa, Iris versicolor, and Iris virginica.\n",
    "\n",
    "At its core, the dataset is elegantly simple. Each iris sample is characterized by four essential features: sepal length, sepal width, petal length, and petal width—each meticulously recorded in centimeters. These features serve as the foundation for supervised learning endeavors, where the challenge lies in building classification models that can discern the subtle botanical differences among iris species.\n",
    "\n",
    "Beyond its historical significance, the Fisher Iris dataset continues to play a vital role in modern data science. It serves as a benchmark for evaluating classification algorithms, a canvas for data visualization and exploration, and a platform for teaching fundamental concepts in machine learning. In this project, we embark on a journey to unlock the dataset's insights and showcase its enduring relevance in the ever-evolving landscape of data analysis and predictive modeling."
   ]
  },
  {
   "cell_type": "code",
   "execution_count": 1,
   "id": "97b5d0b2",
   "metadata": {},
   "outputs": [
    {
     "name": "stdout",
     "output_type": "stream",
     "text": [
      "     sepal length (cm)  sepal width (cm)  petal length (cm)  petal width (cm)  \\\n",
      "0                  5.1               3.5                1.4               0.2   \n",
      "1                  4.9               3.0                1.4               0.2   \n",
      "2                  4.7               3.2                1.3               0.2   \n",
      "3                  4.6               3.1                1.5               0.2   \n",
      "4                  5.0               3.6                1.4               0.2   \n",
      "..                 ...               ...                ...               ...   \n",
      "145                6.7               3.0                5.2               2.3   \n",
      "146                6.3               2.5                5.0               1.9   \n",
      "147                6.5               3.0                5.2               2.0   \n",
      "148                6.2               3.4                5.4               2.3   \n",
      "149                5.9               3.0                5.1               1.8   \n",
      "\n",
      "       species  \n",
      "0       setosa  \n",
      "1       setosa  \n",
      "2       setosa  \n",
      "3       setosa  \n",
      "4       setosa  \n",
      "..         ...  \n",
      "145  virginica  \n",
      "146  virginica  \n",
      "147  virginica  \n",
      "148  virginica  \n",
      "149  virginica  \n",
      "\n",
      "[150 rows x 5 columns]\n"
     ]
    }
   ],
   "source": [
    "import matplotlib.pyplot as plt\n",
    "import seaborn as sns\n",
    "from sklearn.datasets import load_iris\n",
    "import pandas as pd\n",
    "\n",
    "#load the dataset from sklearn\n",
    "iris = load_iris()\n",
    "iris_df = pd.DataFrame(iris.data, columns=iris.feature_names)\n",
    "iris_df['species'] = pd.Categorical.from_codes(iris.target, iris.target_names)\n",
    "\n",
    "print(iris_df)"
   ]
  },
  {
   "cell_type": "markdown",
   "id": "9fde0c42",
   "metadata": {},
   "source": [
    "## Supervised Learning"
   ]
  },
  {
   "cell_type": "markdown",
   "id": "a697fef0",
   "metadata": {},
   "source": [
    "## Classification Algorithms"
   ]
  },
  {
   "cell_type": "markdown",
   "id": "55ad3daa",
   "metadata": {},
   "source": [
    "## K Nearest Neighbours"
   ]
  },
  {
   "cell_type": "markdown",
   "id": "d4ad5ef4",
   "metadata": {},
   "source": [
    "## Support Vector Machines"
   ]
  }
 ],
 "metadata": {
  "kernelspec": {
   "display_name": "Python 3 (ipykernel)",
   "language": "python",
   "name": "python3"
  },
  "language_info": {
   "codemirror_mode": {
    "name": "ipython",
    "version": 3
   },
   "file_extension": ".py",
   "mimetype": "text/x-python",
   "name": "python",
   "nbconvert_exporter": "python",
   "pygments_lexer": "ipython3",
   "version": "3.10.9"
  }
 },
 "nbformat": 4,
 "nbformat_minor": 5
}
