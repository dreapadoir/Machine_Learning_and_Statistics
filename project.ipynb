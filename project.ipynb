{
 "cells": [
  {
   "cell_type": "markdown",
   "id": "570f2a23",
   "metadata": {},
   "source": [
    "# Iris dataset - Machine Learning and Statistics   Winter 23/24"
   ]
  },
  {
   "cell_type": "markdown",
   "id": "a5e28a2f",
   "metadata": {},
   "source": [
    "## Author: David Higgins - G00411302     Atlantic Technological University"
   ]
  },
  {
   "cell_type": "markdown",
   "id": "cc354c6a",
   "metadata": {},
   "source": [
    "## Introduction"
   ]
  },
  {
   "cell_type": "markdown",
   "id": "c2e1e293",
   "metadata": {},
   "source": [
    "The Fisher Iris dataset, introduced by Sir Ronald A. Fisher in 1936, stands as a seminal contribution to the fields of data science and machine learning. This dataset, featuring 150 iris flower samples, holds a unique place in the annals of statistical and botanical research. Its primary purpose is to explore the feasibility of utilizing quantitative measurements—namely, sepal and petal dimensions—to accurately classify iris flowers into three distinct species: Iris setosa, Iris versicolor, and Iris virginica.\n",
    "\n",
    "At its core, the dataset is elegantly simple. Each iris sample is characterized by four essential features: sepal length, sepal width, petal length, and petal width—each meticulously recorded in centimeters. These features serve as the foundation for supervised learning endeavors, where the challenge lies in building classification models that can discern the subtle botanical differences among iris species.\n",
    "\n",
    "Beyond its historical significance, the Fisher Iris dataset continues to play a vital role in modern data science. It serves as a benchmark for evaluating classification algorithms, a canvas for data visualization and exploration, and a platform for teaching fundamental concepts in machine learning. In this project, we embark on a journey to unlock the dataset's insights and showcase its enduring relevance in the ever-evolving landscape of data analysis and predictive modeling."
   ]
  },
  {
   "cell_type": "code",
   "execution_count": 1,
   "id": "97b5d0b2",
   "metadata": {},
   "outputs": [
    {
     "name": "stdout",
     "output_type": "stream",
     "text": [
      "     sepal length (cm)  sepal width (cm)  petal length (cm)  petal width (cm)  \\\n",
      "0                  5.1               3.5                1.4               0.2   \n",
      "1                  4.9               3.0                1.4               0.2   \n",
      "2                  4.7               3.2                1.3               0.2   \n",
      "3                  4.6               3.1                1.5               0.2   \n",
      "4                  5.0               3.6                1.4               0.2   \n",
      "..                 ...               ...                ...               ...   \n",
      "145                6.7               3.0                5.2               2.3   \n",
      "146                6.3               2.5                5.0               1.9   \n",
      "147                6.5               3.0                5.2               2.0   \n",
      "148                6.2               3.4                5.4               2.3   \n",
      "149                5.9               3.0                5.1               1.8   \n",
      "\n",
      "       species  \n",
      "0       setosa  \n",
      "1       setosa  \n",
      "2       setosa  \n",
      "3       setosa  \n",
      "4       setosa  \n",
      "..         ...  \n",
      "145  virginica  \n",
      "146  virginica  \n",
      "147  virginica  \n",
      "148  virginica  \n",
      "149  virginica  \n",
      "\n",
      "[150 rows x 5 columns]\n"
     ]
    }
   ],
   "source": [
    "import matplotlib.pyplot as plt\n",
    "import seaborn as sns\n",
    "from sklearn.datasets import load_iris\n",
    "import pandas as pd\n",
    "\n",
    "#load the dataset from sklearn\n",
    "iris = load_iris()\n",
    "iris_df = pd.DataFrame(iris.data, columns=iris.feature_names)\n",
    "iris_df['species'] = pd.Categorical.from_codes(iris.target, iris.target_names)\n",
    "\n",
    "print(iris_df)"
   ]
  },
  {
   "cell_type": "markdown",
   "id": "87272cf4",
   "metadata": {},
   "source": [
    "## Supervised Learning"
   ]
  },
  {
   "cell_type": "markdown",
   "id": "e5c4040c",
   "metadata": {},
   "source": [
    "Supervised learning stands as a cornerstone in the landscape of machine learning, representing a foundational paradigm that underpins a myriad of real-world applications. This methodology, characterized by the presence of labeled training data, encapsulates the essence of learning from past experience to make informed predictions on unseen data points. In its fundamental form, supervised learning can be distilled into a process where algorithms learn to map input features to their corresponding output labels, effectively modeling the underlying data distribution.\n",
    "\n",
    "Central to the efficacy of supervised learning is the concept of supervision, wherein the algorithm is provided with a ground truth, enabling it to discern the relationship between input and output variables. This supervision manifests through a training dataset comprising pairs of input instances and their associated labels, thereby affording the algorithm an opportunity to generalize from known patterns and make predictions on novel, unlabeled data. The overarching objective in supervised learning is to optimize the model's ability to capture the underlying patterns, fostering the creation of predictive models that can generalize effectively.\n",
    "\n",
    "Supervised learning encompasses two primary categories: regression and classification. In regression tasks, the goal is to predict a continuous output variable, as exemplified in predicting housing prices based on various features. Conversely, classification tasks entail categorizing input data into predefined discrete classes or categories, as seen in image recognition or sentiment analysis. Classification algorithms, including logistic regression, decision trees, support vector machines, and neural networks, are pivotal components of the supervised learning arsenal, each offering distinct capabilities to tackle specific challenges.\n",
    "\n",
    "The practical significance of supervised learning reverberates across diverse domains, ranging from natural language processing and computer vision to medical diagnosis and recommendation systems. Its versatility and adaptability have rendered it indispensable in harnessing the power of data to drive decision-making, providing a fertile ground for research, innovation, and the development of intelligent systems. In sum, supervised learning constitutes an indispensable pillar in the realm of machine learning, serving as the bedrock upon which data-driven insights and predictive models are constructed, propelling the field towards ever-expanding horizons."
   ]
  },
  {
   "cell_type": "markdown",
   "id": "bbc249b1",
   "metadata": {},
   "source": [
    "## Classification Algorithms"
   ]
  },
  {
   "cell_type": "markdown",
   "id": "b3807b2a",
   "metadata": {},
   "source": [
    "Classification algorithms are fundamental in machine learning, serving to categorize data into predefined classes or categories. They are pivotal in numerous real-world applications, such as sentiment analysis, image recognition (e.g., the MNIST dataset), and medical diagnosis (e.g., the Breast Cancer Wisconsin dataset).\n",
    "\n",
    "These algorithms harness labeled training data to learn the intricate relationships between input features and output classes. Their objective is to construct predictive models capable of accurately assigning new, unlabeled data points to the correct categories. A suite of classification algorithms exists, each with distinct capabilities and suitability for specific tasks.\n",
    "\n",
    "For instance, logistic regression models class probabilities, decision trees hierarchically partition feature spaces (e.g., the Iris dataset), support vector machines seek optimal hyperplanes for separation, and k-nearest neighbors classify based on proximity. In recent years, deep neural networks (e.g., CNNs for image classification using datasets like CIFAR-10) have made notable strides in handling complex, high-dimensional data.\n",
    "\n",
    "The selection of a classification algorithm hinges on factors such as data complexity, interpretability requirements, and computational resources. Continual advancements in classification algorithms propel the field of machine learning, enabling automation of decision-making and classification tasks across various domains."
   ]
  },
  {
   "cell_type": "markdown",
   "id": "447fdbab",
   "metadata": {},
   "source": [
    "## K Nearest Neighbours"
   ]
  },
  {
   "cell_type": "markdown",
   "id": "e6aa9a5a",
   "metadata": {},
   "source": [
    "## Support Vector Machines"
   ]
  }
 ],
 "metadata": {
  "kernelspec": {
   "display_name": "Python 3 (ipykernel)",
   "language": "python",
   "name": "python3"
  },
  "language_info": {
   "codemirror_mode": {
    "name": "ipython",
    "version": 3
   },
   "file_extension": ".py",
   "mimetype": "text/x-python",
   "name": "python",
   "nbconvert_exporter": "python",
   "pygments_lexer": "ipython3",
   "version": "3.10.9"
  }
 },
 "nbformat": 4,
 "nbformat_minor": 5
}
