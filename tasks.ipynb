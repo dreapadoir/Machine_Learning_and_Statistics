{
 "cells": [
  {
   "cell_type": "markdown",
   "id": "03c27f32",
   "metadata": {},
   "source": [
    "# **Machine Learning and Statistics Tasks - Winter 2023**\n",
    "\n",
    "## **David Higgins - G00411302**"
   ]
  },
  {
   "cell_type": "markdown",
   "id": "b078bbde",
   "metadata": {},
   "source": [
    "## *Task 1 - Newton's Method for estimating the square root of a number*"
   ]
  },
  {
   "cell_type": "markdown",
   "id": "02e815dd",
   "metadata": {},
   "source": [
    "Newton's method for estimating the square root of a real number is a specific instance of a more general method of called Newton-Raphson's method for estimating the root of real function. It approximates the function at a given point using the tangent to the function at that point. If a function is real, continuous and differentiable the Newton-Raphson method can be applied. \n",
    "\n",
    "The specific case used here is the function $f(x) = x^{2} - a$. By finding the root of this equation, we determine\n",
    "\n",
    "\\begin{align}\n",
    "x^{2} - a &= 0 \\\\\n",
    "x^{2} &= a \\\\\n",
    "x &= \\sqrt{a}\n",
    "\\end{align}\n",
    "\n",
    "that is, the square root of $a$.\n",
    "\n",
    "This is achieved using the formula $x_{n+1} = \\frac{1}{2} \\left( x_n + \\frac{a}{x_n} \\right)$, where $x_n$ is the current best approximation of the root (called guess in the code below). $x_{n+1}$ is the improved approximation of the root derived using the formula (called root in the code below). \n",
    "\n",
    "The tolerance in the function sqrt(a) is hardcoded in as 0.0001 but can be passed as an argument to the function. The while loop will continue as long as the difference between the previous approximation ($x_{n}$) and the improved approximation ($x_{n+1}$) is greater than the tolerance. As the sequence converges it will reach a point where the difference is less than the tolerance and the while loop terminates. This gives the final approximation of the square root of $a$."
   ]
  },
  {
   "cell_type": "code",
   "execution_count": 1,
   "id": "011218ae",
   "metadata": {},
   "outputs": [
    {
     "name": "stdout",
     "output_type": "stream",
     "text": [
      "Enter number: 6400\n",
      "The square root of 6400.0  is approximately 80.0\n"
     ]
    }
   ],
   "source": [
    "def sqrt(a):              #def sqrt(tol, a): could be used as an alternative to pass in a variable tolerance \n",
    "    \n",
    "    tol = 0.0001\n",
    "    guess = a\n",
    "    root = 0.5 * (guess +(a/guess))\n",
    "    \n",
    "    while abs(root - guess) > tol:\n",
    "        guess = root\n",
    "        root = 0.5 * (guess +(a/guess))\n",
    "    \n",
    "    return root\n",
    "\n",
    "a = float(input(\"Enter number: \"))\n",
    "\n",
    "print(\"The square root of\", a,\" is approximately\", sqrt(a))\n",
    "    \n",
    "    "
   ]
  },
  {
   "cell_type": "markdown",
   "id": "c1c99166",
   "metadata": {},
   "source": [
    "## References\n",
    "\n",
    "- https://brilliant.org/wiki/newton-raphson-method/\n",
    "- https://math.mit.edu/~stevenj/18.335/newton-sqrt.pdf\n",
    "- https://github.com/dreapadoir/pands-problem-sheet/blob/main/squareroot.py"
   ]
  },
  {
   "cell_type": "markdown",
   "id": "d90425d6",
   "metadata": {},
   "source": [
    "## *Task 2*"
   ]
  },
  {
   "cell_type": "markdown",
   "id": "2343836b",
   "metadata": {},
   "source": [
    "## *Task 3*"
   ]
  },
  {
   "cell_type": "markdown",
   "id": "b291ec9d",
   "metadata": {},
   "source": [
    "## *Task 4*"
   ]
  },
  {
   "cell_type": "markdown",
   "id": "ec542188",
   "metadata": {},
   "source": [
    "## *Task 5*"
   ]
  },
  {
   "cell_type": "markdown",
   "id": "197f7060",
   "metadata": {},
   "source": [
    "## References"
   ]
  },
  {
   "cell_type": "code",
   "execution_count": null,
   "id": "6b9f2bde",
   "metadata": {},
   "outputs": [],
   "source": []
  }
 ],
 "metadata": {
  "kernelspec": {
   "display_name": "Python 3 (ipykernel)",
   "language": "python",
   "name": "python3"
  },
  "language_info": {
   "codemirror_mode": {
    "name": "ipython",
    "version": 3
   },
   "file_extension": ".py",
   "mimetype": "text/x-python",
   "name": "python",
   "nbconvert_exporter": "python",
   "pygments_lexer": "ipython3",
   "version": "3.10.9"
  }
 },
 "nbformat": 4,
 "nbformat_minor": 5
}
