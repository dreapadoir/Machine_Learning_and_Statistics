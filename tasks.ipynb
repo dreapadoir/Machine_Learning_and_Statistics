{
 "cells": [
  {
   "cell_type": "markdown",
   "id": "03c27f32",
   "metadata": {},
   "source": [
    "# **Machine Learning and Statistics Tasks - Winter 2023**\n",
    "\n",
    "## **David Higgins - G00411302**"
   ]
  },
  {
   "cell_type": "markdown",
   "id": "b078bbde",
   "metadata": {},
   "source": [
    "## *Task 1 - Newton's Method for estimating the square root of a number*"
   ]
  },
  {
   "cell_type": "markdown",
   "id": "51de2875",
   "metadata": {},
   "source": [
    "Newton's method for estimating the square root of a real number is a specific instance of a more general method of called Newton-Raphson's method for estimating the root of real function. It approximates the function at a given point using the tangent to the function at that point. If a function is real, continuous and differentiable the Newton-Raphson method can be applied. \n",
    "\n",
    "The specific case used here is the function $f(x) = x^{2} - a$. By finding the root of this equation, we determine\n",
    "\n",
    "\\begin{align}\n",
    "x^{2} - a &= 0 \\\\\n",
    "x^{2} &= a \\\\\n",
    "x &= \\sqrt{a}\n",
    "\\end{align}\n",
    "\n",
    "that is, the square root of $a$.\n",
    "\n",
    "This is achieved using the formula $x_{n+1} = \\frac{1}{2} \\left( x_n + \\frac{a}{x_n} \\right)$, where $x_n$ is the current best approximation of the root (called guess in the code below). $x_{n+1}$ is the improved approximation of the root derived using the formula (called root in the code below). \n",
    "\n",
    "The tolerance in the function sqrt(a) is hardcoded in as 0.0001 but can be passed as an argument to the function. The while loop will continue as long as the difference between the previous approximation ($x_{n}$) and the improved approximation ($x_{n+1}$) is greater than the tolerance. As the sequence converges it will reach a point where the difference is less than the tolerance and the while loop terminates. This gives the final approximation of the square root of $a$."
   ]
  },
  {
   "cell_type": "code",
   "execution_count": 1,
   "id": "011218ae",
   "metadata": {},
   "outputs": [
    {
     "name": "stdout",
     "output_type": "stream",
     "text": [
      "Enter number: 1600\n",
      "The square root of 1600.0  is approximately 40.0\n"
     ]
    }
   ],
   "source": [
    "def sqrt(a):              #def sqrt(tol, a): could be used as an alternative to pass in a variable tolerance \n",
    "    \n",
    "    tol = 0.0001\n",
    "    guess = a\n",
    "    root = 0.5 * (guess +(a/guess))\n",
    "    \n",
    "    while abs(root - guess) > tol:\n",
    "        guess = root\n",
    "        root = 0.5 * (guess +(a/guess))\n",
    "    \n",
    "    return root\n",
    "\n",
    "a = float(input(\"Enter number: \"))\n",
    "\n",
    "print(\"The square root of\", a,\" is approximately\", sqrt(a))\n",
    "    \n",
    "    "
   ]
  },
  {
   "cell_type": "markdown",
   "id": "88b82ca6",
   "metadata": {},
   "source": [
    "### References\n",
    "\n",
    "- https://brilliant.org/wiki/newton-raphson-method/\n",
    "- https://math.mit.edu/~stevenj/18.335/newton-sqrt.pdf\n",
    "- https://github.com/dreapadoir/pands-problem-sheet/blob/main/squareroot.py"
   ]
  },
  {
   "cell_type": "markdown",
   "id": "d90425d6",
   "metadata": {},
   "source": [
    "## *Task 2 - Chi-Squared Test* "
   ]
  },
  {
   "cell_type": "markdown",
   "id": "11cfdd89",
   "metadata": {},
   "source": [
    "The chi-square test is a statistical test used to determine if there is a significant association between two variables. It compares the observed frequencies seen in the data with the expected frequencies that would be expected to be seen in the data if the two variables were independent of each other. \n",
    "\n",
    "The formula for the Chi-Squared test statistic is given by\n",
    "$$\n",
    "\\chi^2 = \\sum \\frac{(O_{i} - E_{i})^2}{E_{i}}\n",
    "$$\n",
    "\n",
    "where $O_{i}$ is the observed data and $E_{i}$ is the expected data. For truly independent variables, the difference between the observed data and the expected data will be small. This will generate a small Chi-Squared test statistic. If there is a link between the variables, the test statistic will be large as the observed data will deviate significantly from the expected data.\n",
    "\n",
    "The p-value defines the the probability of observing the results (or something more extreme) if the two variables were actually independent. A small p-value suggests that the variables are not independent. A significance level is defined as part of the test, usually 0.05, and if the p-value is less than the significance level, then this indicates that there is a significant association between the two variables."
   ]
  },
  {
   "cell_type": "code",
   "execution_count": 2,
   "id": "94afef34",
   "metadata": {},
   "outputs": [
    {
     "name": "stdout",
     "output_type": "stream",
     "text": [
      "The p-value (0.10447218120907394) is greater than the significance level of 0.05, therefore there is not evidence to support the hypothesis that there is an association between drink preference and biscuit preference.\n"
     ]
    }
   ],
   "source": [
    "import numpy as np\n",
    "from scipy.stats import chi2_contingency\n",
    "\n",
    "#Create contingency table as a numpy array\n",
    "conTable = np.array([[43, 57], [56, 45]])\n",
    "\n",
    "#Set a p-value (significance level) to evaluate results\n",
    "sigLevel = 0.05\n",
    "\n",
    "results = chi2_contingency(conTable)\n",
    "\n",
    "#print(results)\n",
    "\n",
    "#Compare the p-value found in the results and the significance level\n",
    "if results.pvalue < sigLevel:\n",
    "    print(\"The p-value ({}) is less than the significance level of {}, therefore there is evidence to support the hypothesis that there is an association between drink preference and biscuit preference.\".format(results.pvalue, sigLevel))\n",
    "\n",
    "else:\n",
    "    print(\"The p-value ({}) is greater than the significance level of {}, therefore there is not evidence to support the hypothesis that there is an association between drink preference and biscuit preference.\".format(results.pvalue, sigLevel))"
   ]
  },
  {
   "cell_type": "markdown",
   "id": "68b57763",
   "metadata": {},
   "source": [
    "### References\n",
    "\n",
    "- https://en.wikipedia.org/wiki/Chi-squared_test\n",
    "- https://www.simplilearn.com/tutorials/statistics-tutorial/chi-square-test\n",
    "- https://docs.scipy.org/doc/scipy/reference/generated/scipy.stats.chi2_contingency.html\n"
   ]
  },
  {
   "cell_type": "markdown",
   "id": "2343836b",
   "metadata": {},
   "source": [
    "## *Task 3*"
   ]
  },
  {
   "cell_type": "markdown",
   "id": "b291ec9d",
   "metadata": {},
   "source": [
    "## *Task 4*"
   ]
  },
  {
   "cell_type": "markdown",
   "id": "ec542188",
   "metadata": {},
   "source": [
    "## *Task 5*"
   ]
  },
  {
   "cell_type": "markdown",
   "id": "197f7060",
   "metadata": {},
   "source": [
    "## References"
   ]
  },
  {
   "cell_type": "code",
   "execution_count": null,
   "id": "6b9f2bde",
   "metadata": {},
   "outputs": [],
   "source": []
  }
 ],
 "metadata": {
  "kernelspec": {
   "display_name": "Python 3 (ipykernel)",
   "language": "python",
   "name": "python3"
  },
  "language_info": {
   "codemirror_mode": {
    "name": "ipython",
    "version": 3
   },
   "file_extension": ".py",
   "mimetype": "text/x-python",
   "name": "python",
   "nbconvert_exporter": "python",
   "pygments_lexer": "ipython3",
   "version": "3.10.9"
  }
 },
 "nbformat": 4,
 "nbformat_minor": 5
}
