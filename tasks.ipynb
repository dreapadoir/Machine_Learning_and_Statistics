{
 "cells": [
  {
   "cell_type": "markdown",
   "id": "03c27f32",
   "metadata": {},
   "source": [
    "# **Machine Learning and Statistics Tasks - Winter 2023**\n",
    "\n",
    "## **David Higgins - G00411302**"
   ]
  },
  {
   "cell_type": "markdown",
   "id": "b078bbde",
   "metadata": {},
   "source": [
    "## *Task 1 - Newton's Method for estimating the square root of a number*"
   ]
  },
  {
   "cell_type": "markdown",
   "id": "51de2875",
   "metadata": {},
   "source": [
    "Newton's method for estimating the square root of a real number is a specific instance of a more general method of called Newton-Raphson's method for estimating the root of real function. It approximates the function at a given point using the tangent to the function at that point. If a function is real, continuous and differentiable the Newton-Raphson method can be applied. \n",
    "\n",
    "The specific case used here is the function $f(x) = x^{2} - a$. By finding the root of this equation, we determine\n",
    "\n",
    "\\begin{align}\n",
    "x^{2} - a &= 0 \\\\\n",
    "x^{2} &= a \\\\\n",
    "x &= \\sqrt{a}\n",
    "\\end{align}\n",
    "\n",
    "that is, the square root of $a$.\n",
    "\n",
    "This is achieved using the formula $x_{n+1} = \\frac{1}{2} \\left( x_n + \\frac{a}{x_n} \\right)$, where $x_n$ is the current best approximation of the root (called guess in the code below). $x_{n+1}$ is the improved approximation of the root derived using the formula (called root in the code below). \n",
    "\n",
    "The tolerance in the function sqrt(a) is hardcoded in as 0.0001 but can be passed as an argument to the function. The while loop will continue as long as the difference between the previous approximation ($x_{n}$) and the improved approximation ($x_{n+1}$) is greater than the tolerance. As the sequence converges it will reach a point where the difference is less than the tolerance and the while loop terminates. This gives the final approximation of the square root of $a$."
   ]
  },
  {
   "cell_type": "code",
   "execution_count": 1,
   "id": "011218ae",
   "metadata": {},
   "outputs": [
    {
     "name": "stdout",
     "output_type": "stream",
     "text": [
      "Enter number: 99\n",
      "The square root of 99.0  is approximately 9.949874371188393\n"
     ]
    }
   ],
   "source": [
    "def sqrt(a):              #def sqrt(tol, a): could be used as an alternative to pass in a variable tolerance \n",
    "    \n",
    "    tol = 0.0001\n",
    "    guess = a\n",
    "    root = 0.5 * (guess +(a/guess))\n",
    "    \n",
    "    while abs(root - guess) > tol:\n",
    "        guess = root\n",
    "        root = 0.5 * (guess +(a/guess))\n",
    "    \n",
    "    return root\n",
    "\n",
    "a = float(input(\"Enter number: \"))\n",
    "\n",
    "print(\"The square root of\", a,\" is approximately\", sqrt(a))\n",
    "    \n",
    "    "
   ]
  },
  {
   "cell_type": "markdown",
   "id": "88b82ca6",
   "metadata": {},
   "source": [
    "### References\n",
    "\n",
    "- https://brilliant.org/wiki/newton-raphson-method/\n",
    "- https://math.mit.edu/~stevenj/18.335/newton-sqrt.pdf\n",
    "- https://github.com/dreapadoir/pands-problem-sheet/blob/main/squareroot.py"
   ]
  },
  {
   "cell_type": "markdown",
   "id": "d90425d6",
   "metadata": {},
   "source": [
    "## *Task 2 - Chi-Squared Test* "
   ]
  },
  {
   "cell_type": "markdown",
   "id": "11cfdd89",
   "metadata": {},
   "source": [
    "The chi-square test is a statistical test used to determine if there is a significant association between two variables. It compares the observed frequencies seen in the data with the expected frequencies that would be expected to be seen in the data if the two variables were independent of each other. \n",
    "\n",
    "The formula for the Chi-Squared test statistic is given by\n",
    "$$\n",
    "\\chi^2 = \\sum \\frac{(O_{i} - E_{i})^2}{E_{i}}\n",
    "$$\n",
    "\n",
    "where $O_{i}$ is the observed data and $E_{i}$ is the expected data. For truly independent variables, the difference between the observed data and the expected data will be small. This will generate a small Chi-Squared test statistic. If there is a link between the variables, the test statistic will be large as the observed data will deviate significantly from the expected data.\n",
    "\n",
    "The p-value defines the the probability of observing the results (or something more extreme) if the two variables were actually independent. A small p-value suggests that the variables are not independent. A significance level is defined as part of the test, usually 0.05, and if the p-value is less than the significance level, then this indicates that there is a significant association between the two variables."
   ]
  },
  {
   "cell_type": "code",
   "execution_count": 2,
   "id": "94afef34",
   "metadata": {},
   "outputs": [
    {
     "name": "stdout",
     "output_type": "stream",
     "text": [
      "The p-value (0.10447218120907394) is greater than the significance level of 0.05, therefore there is not evidence to support the hypothesis that there is an association between drink preference and biscuit preference.\n"
     ]
    }
   ],
   "source": [
    "import numpy as np\n",
    "from scipy.stats import chi2_contingency\n",
    "\n",
    "#Create contingency table as a numpy array\n",
    "conTable = np.array([[43, 57], [56, 45]])\n",
    "\n",
    "#Set a p-value (significance level) to evaluate results\n",
    "sigLevel = 0.05\n",
    "\n",
    "results = chi2_contingency(conTable)\n",
    "\n",
    "#print(results)\n",
    "\n",
    "#Compare the p-value found in the results and the significance level\n",
    "if results.pvalue < sigLevel:\n",
    "    print(\"The p-value ({}) is less than the significance level of {}, therefore there is evidence to support the hypothesis that there is an association between drink preference and biscuit preference.\".format(results.pvalue, sigLevel))\n",
    "\n",
    "else:\n",
    "    print(\"The p-value ({}) is greater than the significance level of {}, therefore there is not evidence to support the hypothesis that there is an association between drink preference and biscuit preference.\".format(results.pvalue, sigLevel))"
   ]
  },
  {
   "cell_type": "markdown",
   "id": "68b57763",
   "metadata": {},
   "source": [
    "### References\n",
    "\n",
    "- https://en.wikipedia.org/wiki/Chi-squared_test\n",
    "- https://www.simplilearn.com/tutorials/statistics-tutorial/chi-square-test\n",
    "- https://docs.scipy.org/doc/scipy/reference/generated/scipy.stats.chi2_contingency.html\n"
   ]
  },
  {
   "cell_type": "markdown",
   "id": "2343836b",
   "metadata": {},
   "source": [
    "## *Task 3 - Penguin dataset t-test* "
   ]
  },
  {
   "cell_type": "markdown",
   "id": "5eddbb2c",
   "metadata": {},
   "source": [
    "The penguin dataset used in this example is a popular dataset frequently used in data analysis and statistics. It is derived from a study conducted by Dr. Kristen Gorman and the Palmer Station, Antarctica LTER (Long Term Ecological Research) program.\n",
    "\n",
    "The data was collected on an island in the Palmer Archipelago, near the Antarctic Peninsula, and includes information about three species of penguins: Adélie, Chinstrap, and Gentoo. The dataset provides various measurements and characteristics of penguins, including their species, sex, bill length, bill depth, flipper length and body mass.\n",
    "\n",
    "It has been widely used in data analysis and statistics courses to teach techniques such as hypothesis testing, regression analysis, and data visualization.\n",
    "\n",
    "The t-test is a statistical method used to compare the means of two groups and determine if there is a significant difference between them. In the context of the penguin dataset, the t-test is used to investigate whether there is a significant difference in the body mass of male and female gentoo penguins. Here's a brief explanation of how the t-test works:\n",
    "\n",
    "1. Null Hypothesis (H0): The null hypothesis assumes that there is no significant difference between the means of the two groups. In this case, it means that there is no significant difference in body mass between male and female gentoo penguins.\n",
    "\n",
    "2. Alternative Hypothesis (Ha): The alternative hypothesis is the opposite of the null hypothesis. It suggests that there is a significant difference between the means of the two groups. In this case, it implies that there is a significant difference in body mass between male and female gentoo penguins.\n",
    "\n",
    "3. T-Test Calculation: The t-test calculates a t-statistic, which measures the difference between the means of the two groups relative to the variability within the groups. A higher t-statistic indicates a larger difference.\n",
    "\n",
    "4. P-Value: The t-test also calculates a p-value, which represents the probability of observing the observed difference (or more extreme differences) if the null hypothesis were true. A small p-value (typically less than a chosen significance level, e.g., 0.05) suggests strong evidence against the null hypothesis.\n",
    "\n",
    "5. Interpretation: If the p-value is less than the chosen significance level (e.g., 0.05), we reject the null hypothesis, indicating that there is evidence of a significant difference between the groups. If the p-value is greater than the significance level, we fail to reject the null hypothesis, suggesting no significant difference.\n",
    "\n",
    "In the code below, we calculate the t-statistic and p-value using the `stats.ttest_ind` function from the scipy library and used a significance level (alpha) of 0.05 to make a decision about whether there is a significant difference in body mass between male and female gentoo penguins based on the p-value."
   ]
  },
  {
   "cell_type": "code",
   "execution_count": 15,
   "id": "787acc9f",
   "metadata": {},
   "outputs": [
    {
     "name": "stdout",
     "output_type": "stream",
     "text": [
      "T-Statistic: 14.721676481405709\n",
      "P-Value: 2.133687602018886e-28\n",
      "There is evidence of a significant difference in body mass between male and female gentoo penguins.\n"
     ]
    }
   ],
   "source": [
    "import pandas as pd\n",
    "from scipy import stats\n",
    "\n",
    "penguins_data = pd.read_csv(\"penguins.csv\")  # Make sure to specify the correct path to your dataset\n",
    "\n",
    "#Filter the data for gentoo penguins\n",
    "gentoo_penguins = penguins_data[penguins_data[\"species\"] == \"Gentoo\"]\n",
    "\n",
    "#Separate the data for male and female gentoo penguins\n",
    "male_penguins = gentoo_penguins[gentoo_penguins[\"sex\"] == \"MALE\"]\n",
    "female_penguins = gentoo_penguins[gentoo_penguins[\"sex\"] == \"FEMALE\"]\n",
    "\n",
    "#Remove missing values for body mass\n",
    "male_penguins = male_penguins.dropna(subset=[\"body_mass_g\"])\n",
    "female_penguins = female_penguins.dropna(subset=[\"body_mass_g\"])\n",
    "\n",
    "#Perform the t-test\n",
    "t_statistic, p_value = stats.ttest_ind(male_penguins[\"body_mass_g\"], female_penguins[\"body_mass_g\"])\n",
    "\n",
    "\n",
    "print(\"T-Statistic:\", t_statistic)\n",
    "print(\"P-Value:\", p_value)\n",
    "\n",
    "#Determine significance\n",
    "alpha = 0.05 \n",
    "if p_value < alpha:\n",
    "    print(\"There is evidence of a significant difference in body mass between male and female gentoo penguins.\")\n",
    "else:\n",
    "    print(\"There is no significant difference in body mass between male and female gentoo penguins.\")"
   ]
  },
  {
   "cell_type": "markdown",
   "id": "545273bc",
   "metadata": {},
   "source": [
    "### References\n",
    "\n",
    "- https://github.com/mwaskom/seaborn-data/blob/master/penguins.csv (visited on 11/11/2023)\n",
    "- https://statistics.laerd.com/spss-tutorials/independent-t-test-using-spss-statistics.php (visited on 11/11/2023)\n",
    "- https://docs.scipy.org/doc/scipy/reference/generated/scipy.stats.chi2_contingency.html"
   ]
  },
  {
   "cell_type": "markdown",
   "id": "b291ec9d",
   "metadata": {},
   "source": [
    "## *Task 4*"
   ]
  },
  {
   "cell_type": "markdown",
   "id": "ec542188",
   "metadata": {},
   "source": [
    "## *Task 5*"
   ]
  },
  {
   "cell_type": "markdown",
   "id": "197f7060",
   "metadata": {},
   "source": [
    "## References"
   ]
  },
  {
   "cell_type": "code",
   "execution_count": null,
   "id": "6b9f2bde",
   "metadata": {},
   "outputs": [],
   "source": []
  }
 ],
 "metadata": {
  "kernelspec": {
   "display_name": "Python 3 (ipykernel)",
   "language": "python",
   "name": "python3"
  },
  "language_info": {
   "codemirror_mode": {
    "name": "ipython",
    "version": 3
   },
   "file_extension": ".py",
   "mimetype": "text/x-python",
   "name": "python",
   "nbconvert_exporter": "python",
   "pygments_lexer": "ipython3",
   "version": "3.10.9"
  }
 },
 "nbformat": 4,
 "nbformat_minor": 5
}
