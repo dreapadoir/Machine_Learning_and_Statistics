{
 "cells": [
  {
   "cell_type": "markdown",
   "id": "03c27f32",
   "metadata": {},
   "source": [
    "# **Machine Learning and Statistics Tasks - Winter 2023**"
   ]
  },
  {
   "cell_type": "markdown",
   "id": "b078bbde",
   "metadata": {},
   "source": [
    "## *Task 1 - Newton's Method for estimating the square root of a number*"
   ]
  },
  {
   "cell_type": "code",
   "execution_count": null,
   "id": "011218ae",
   "metadata": {},
   "outputs": [],
   "source": [
    "#program to approximate a square root of any positive real number using Newton's method\n",
    "#Author: David Higgins\n",
    "\n",
    "varN = float(input(\"Enter number: \"))       #this creates a variable that will hold the number we are trying to find the square root of. It is explicitly declared as a float\n",
    "varTol = float(input(\"Enter tolerance: \"))  #this creates a variable that will hold the tolerance, one of the inputs needed for the Newton method\n",
    "varX = varN                                 #this creates a variable will be used to hold the guess of the root for each iteration\n",
    "\n",
    "def newton(N, X):                           #defines a function that takes two arguments, N and X, and returns the value of the calculation for the Newton method\n",
    "    return 0.5 * (X +(N/X))\n",
    "\n",
    "varRoot = newton(varN, varX)                #creates a variable the holds the result of newton function using varN and varX as arguments\n",
    "\n",
    "while abs(varRoot - varX) > varTol:         #initiates a while loop with the condition that it runs while difference between the last guess and the current approximation of the root is greater than varTol\n",
    "    varX = varRoot                          #varRoot becomes the new guess, varX\n",
    "    varRoot = newton(varN, varX)            #a new varRoot is calculated using newton\n",
    "\n",
    "print(\"The square root of\", varN,\" is approximately\", varRoot)  #when the difference between the current guess, varX and the approximated root, varRoot is less than the tolerance\n",
    "                                                                #a string is printed giving the approximation of the root of varN"
   ]
  },
  {
   "cell_type": "markdown",
   "id": "d90425d6",
   "metadata": {},
   "source": [
    "## *Task 2*"
   ]
  },
  {
   "cell_type": "markdown",
   "id": "2343836b",
   "metadata": {},
   "source": [
    "## *Task 3*"
   ]
  },
  {
   "cell_type": "markdown",
   "id": "b291ec9d",
   "metadata": {},
   "source": [
    "## *Task 4*"
   ]
  },
  {
   "cell_type": "markdown",
   "id": "ec542188",
   "metadata": {},
   "source": [
    "## *Task 5*"
   ]
  },
  {
   "cell_type": "markdown",
   "id": "197f7060",
   "metadata": {},
   "source": [
    "## References"
   ]
  },
  {
   "cell_type": "code",
   "execution_count": null,
   "id": "6b9f2bde",
   "metadata": {},
   "outputs": [],
   "source": []
  }
 ],
 "metadata": {
  "kernelspec": {
   "display_name": "Python 3 (ipykernel)",
   "language": "python",
   "name": "python3"
  },
  "language_info": {
   "codemirror_mode": {
    "name": "ipython",
    "version": 3
   },
   "file_extension": ".py",
   "mimetype": "text/x-python",
   "name": "python",
   "nbconvert_exporter": "python",
   "pygments_lexer": "ipython3",
   "version": "3.10.9"
  }
 },
 "nbformat": 4,
 "nbformat_minor": 5
}
